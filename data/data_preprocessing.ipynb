{
 "cells": [
  {
   "cell_type": "code",
   "execution_count": 25,
   "id": "210793df",
   "metadata": {},
   "outputs": [],
   "source": [
    "import matplotlib.pyplot as plt\n",
    "import ipdb\n",
    "import os, glob, shutil\n",
    "import os.path as osp\n",
    "import numpy as np\n",
    "import tqdm\n",
    "from pydicom import dcmread\n",
    "from PIL import Image\n",
    "\n",
    "def sorted_list(path): \n",
    "    \n",
    "    \"\"\" function for getting list of files or directories. \"\"\"\n",
    "    \n",
    "    tmplist = glob.glob(path) # finding all files or directories and listing them.\n",
    "    tmplist.sort() # sorting the found list\n",
    "    \n",
    "    return tmplist\n",
    "\n",
    "def crop(ds,patch_size,stride):\n",
    "    patches = []\n",
    "    for left in range(0, ds.shape[0] - patch_size + 1, stride):\n",
    "        for top in range(0, ds.shape[1] - patch_size + 1, stride):\n",
    "            patches.append(ds[left: left + patch_size, top: top + patch_size])\n",
    "    return patches\n",
    "\n",
    "\n",
    "def arr_size(arr,size):\n",
    "    s=[]\n",
    "    for i in range(0,int(len(arr))+1,size):\n",
    "        c=arr[i:i+size]\n",
    "        s.append(c)\n",
    "    return s\n",
    "\n",
    "def make_dir(path, refresh=False):\n",
    "    \n",
    "    \"\"\" function for making directory (to save results). \"\"\"\n",
    "    \n",
    "    try: os.mkdir(path)\n",
    "    except: \n",
    "        if(refresh): \n",
    "            shutil.rmtree(path)\n",
    "            os.mkdir(path)\n"
   ]
  },
  {
   "cell_type": "code",
   "execution_count": 29,
   "id": "3a3d430c",
   "metadata": {},
   "outputs": [
    {
     "name": "stdout",
     "output_type": "stream",
     "text": [
      "generate train data...\n",
      "generate full_1mm data...\n"
     ]
    },
    {
     "name": "stderr",
     "output_type": "stream",
     "text": [
      "100%|████████████████████████████████████████████████████████████████████████████████████████████████████████████████████████████████████████████████████████████████████| 8/8 [00:07<00:00,  1.08it/s]\n"
     ]
    },
    {
     "name": "stdout",
     "output_type": "stream",
     "text": [
      "generate quarter_1mm data...\n"
     ]
    },
    {
     "name": "stderr",
     "output_type": "stream",
     "text": [
      "100%|████████████████████████████████████████████████████████████████████████████████████████████████████████████████████████████████████████████████████████████████████| 8/8 [00:07<00:00,  1.02it/s]\n"
     ]
    },
    {
     "name": "stdout",
     "output_type": "stream",
     "text": [
      "4800\n",
      "4800\n"
     ]
    },
    {
     "name": "stderr",
     "output_type": "stream",
     "text": [
      "100%|████████████████████████████████████████████████████████████████████████████████████████████████████████████████████████████████████████████████████████████| 4800/4800 [00:04<00:00, 1060.44it/s]\n"
     ]
    },
    {
     "name": "stdout",
     "output_type": "stream",
     "text": [
      "4800\n",
      "complete save train patches...\n",
      "generate test data...\n",
      "generate full_1mm data...\n"
     ]
    },
    {
     "name": "stderr",
     "output_type": "stream",
     "text": [
      "100%|████████████████████████████████████████████████████████████████████████████████████████████████████████████████████████████████████████████████████████████████████| 2/2 [00:01<00:00,  1.16it/s]\n"
     ]
    },
    {
     "name": "stdout",
     "output_type": "stream",
     "text": [
      "generate quarter_1mm data...\n"
     ]
    },
    {
     "name": "stderr",
     "output_type": "stream",
     "text": [
      "100%|████████████████████████████████████████████████████████████████████████████████████████████████████████████████████████████████████████████████████████████████████| 2/2 [00:01<00:00,  1.17it/s]\n"
     ]
    },
    {
     "name": "stdout",
     "output_type": "stream",
     "text": [
      "1136\n",
      "1136\n"
     ]
    },
    {
     "name": "stderr",
     "output_type": "stream",
     "text": [
      "100%|████████████████████████████████████████████████████████████████████████████████████████████████████████████████████████████████████████████████████████████| 1136/1136 [00:01<00:00, 1038.62it/s]"
     ]
    },
    {
     "name": "stdout",
     "output_type": "stream",
     "text": [
      "1136\n",
      "complete save test patches...\n"
     ]
    },
    {
     "name": "stderr",
     "output_type": "stream",
     "text": [
      "\n"
     ]
    }
   ],
   "source": [
    "\n",
    "\n",
    "data_root='/data/zhchen/aapm_challenge/data2d/'\n",
    "# patient_root='/data/zhchen/aapm_challenge/data2d/'\n",
    "# patient_list=sorted_list(patient_root+i+'/*')\n",
    "\n",
    "#data_split={'train':[0:8],'test':[8:10]}\n",
    "\"\"\"\n",
    "train:L067,L096,L109,L143,L192,L286,L219,L310\n",
    "test: L333,L506\n",
    "\"\"\"\n",
    "\n",
    "dataset_name = '/data/zhchen/Mayo2016_2d'\n",
    "threshold = 0.85\n",
    "\n",
    "\n",
    "\n",
    "patch_size=512\n",
    "stride=512\n",
    "\n",
    "\n",
    "for phase in ['train','test']:\n",
    "    full_patches=[]\n",
    "    quarter_patches=[]\n",
    "#     save_root_q=dataset_name+'/'+phase+'/'+'quarter_1mm'\n",
    "#     save_root_f=dataset_name+'/'+phase+'/'+'full_1mm'\n",
    "#     make_dir(save_root_q, refresh=True)\n",
    "#     make_dir(save_root_f, refresh=True)\n",
    "    print('generate {} data...'.format(phase))\n",
    "    for i in ['full_1mm','quarter_1mm']:\n",
    "        print('generate {} data...'.format(i))\n",
    "        if phase=='train':\n",
    "            patient_list=sorted_list(data_root+'/'+i+'/*')[0:8]\n",
    "        if phase=='test':\n",
    "            patient_list=sorted_list(data_root+'/'+i+'/*')[8:10]\n",
    "        for patient_id,patient_path in enumerate(tqdm.tqdm(patient_list)):\n",
    "            ct_list = sorted_list(patient_path+'/'+i+'/*')\n",
    "            for path in ct_list:\n",
    "                #ipdb.set_trace()\n",
    "                img=dcmread(path)\n",
    "                patient_id=img.SliceLocation\n",
    "                img_array=img.pixel_array.astype(np.float32)\n",
    "                patches=crop(img_array,patch_size,stride)\n",
    "                if i =='quarter_1mm':\n",
    "                    quarter_patches.extend(patches)\n",
    "                if i =='full_1mm':\n",
    "                    full_patches.extend(patches)\n",
    "                    \n",
    "    print(len(quarter_patches))\n",
    "    print(len(full_patches))\n",
    "\n",
    "    count=0\n",
    "    for k in tqdm.trange((len(full_patches))):\n",
    "        #print(black_percent)\n",
    "        black_percent = np.mean(np.clip(full_patches[k] - 1024, -500, 2000) == -500)\n",
    "        if black_percent < threshold:\n",
    "            count+=1\n",
    "            #print(black_percent)\n",
    "            import ipdb\n",
    "            #ipdb.set_trace()\n",
    "#             q_patch = np.array(quarter_patches[k]).astype(np.uint16).reshape(( 1,patch_size, patch_size))\n",
    "#             f_patch = np.array(full_patches[k]).astype(np.uint16).reshape(( 1,patch_size, patch_size))\n",
    "#             np.save(save_root_q+'/'+phase+'-quarter_1mm-'+'%05d' % k, np.array(q_patch).astype(np.uint16))\n",
    "#             np.save(save_root_f+'/'+phase+'-full_1mm-'+'%05d' % k, np.array(f_patch).astype(np.uint16))\n",
    "    print(count)\n",
    "    print('complete save {} patches...'.format(phase))\n",
    "    \n",
    "\n",
    "    \n"
   ]
  },
  {
   "cell_type": "code",
   "execution_count": 31,
   "id": "df9d85f3",
   "metadata": {},
   "outputs": [
    {
     "name": "stdout",
     "output_type": "stream",
     "text": [
      "generate train256 data...\n",
      "generate full dose data...\n"
     ]
    },
    {
     "name": "stderr",
     "output_type": "stream",
     "text": [
      "100%|██████████████████████████████████████████████████████████████████████████████████████████████████████████████████████████████████████████████████████████████████| 16/16 [00:04<00:00,  3.70it/s]\n"
     ]
    },
    {
     "name": "stdout",
     "output_type": "stream",
     "text": [
      "generate 25% low dose data...\n"
     ]
    },
    {
     "name": "stderr",
     "output_type": "stream",
     "text": [
      "100%|██████████████████████████████████████████████████████████████████████████████████████████████████████████████████████████████████████████████████████████████████| 16/16 [00:04<00:00,  3.83it/s]\n",
      " 16%|█████████████████████████▌                                                                                                                                 | 9730/59025 [00:02<00:12, 3845.81it/s]\n"
     ]
    },
    {
     "name": "stdout",
     "output_type": "stream",
     "text": [
      "9600\n",
      "complete save train256 patches...\n",
      "generate test data...\n",
      "generate full dose data...\n"
     ]
    },
    {
     "name": "stderr",
     "output_type": "stream",
     "text": [
      "100%|████████████████████████████████████████████████████████████████████████████████████████████████████████████████████████████████████████████████████████████████████| 4/4 [00:01<00:00,  3.79it/s]\n"
     ]
    },
    {
     "name": "stdout",
     "output_type": "stream",
     "text": [
      "generate 25% low dose data...\n"
     ]
    },
    {
     "name": "stderr",
     "output_type": "stream",
     "text": [
      "100%|████████████████████████████████████████████████████████████████████████████████████████████████████████████████████████████████████████████████████████████████████| 4/4 [00:01<00:00,  3.79it/s]\n",
      "100%|██████████████████████████████████████████████████████████████████████████████████████████████████████████████████████████████████████████████████████████████| 580/580 [00:00<00:00, 1109.20it/s]"
     ]
    },
    {
     "name": "stdout",
     "output_type": "stream",
     "text": [
      "580\n",
      "complete save test patches...\n"
     ]
    },
    {
     "name": "stderr",
     "output_type": "stream",
     "text": [
      "\n"
     ]
    }
   ],
   "source": [
    "'''\n",
    "ASCON mayo2020\n",
    "'''\n",
    "from more_itertools import chunked\n",
    "\n",
    "np.random.seed(0)\n",
    "\n",
    "\n",
    "data_path='/data/PUBLIC-DATASET/CT/CT/'\n",
    "\n",
    "train_list=['L107','L114','L116','L125','L131','L134','L145','L150',\n",
    "            'L160','L170','L175','L178','L186','L187','L193','L203']\n",
    "\n",
    "test_list=['L110','L123','L148','L179']\n",
    "\n",
    "data_lists={'train512':train_list,'test':test_list,'train256':train_list}\n",
    "\n",
    "dataset_name = '/data/zhchen/Mayo2020_ab_2d'\n",
    "thresholds = [0.7,0.85]\n",
    "num_samples = {\n",
    "    'train512': 2000,\n",
    "    'train256': 9600,\n",
    "    'test':600\n",
    "}\n",
    "train_patch_size=256\n",
    "train_stride=64\n",
    "\n",
    "test_patch_size=512\n",
    "test_stride=512\n",
    "\n",
    "\n",
    "for phase in ['train256','test']: \n",
    "    full_patches=[]\n",
    "    quarter_patches=[]\n",
    "    final_patches=[]\n",
    "    final_patches1=[]\n",
    "    final_patches2=[]\n",
    "#     save_root_q=dataset_name+'/'+phase+'/'+'quarter_1mm'\n",
    "#     save_root_f=dataset_name+'/'+phase+'/'+'full_1mm'\n",
    "#     make_dir(save_root_q, refresh=True)\n",
    "#     make_dir(save_root_f, refresh=True)\n",
    "    print('generate {} data...'.format(phase))\n",
    "    for i in range(2):\n",
    "        print('generate full dose data...') if i==0 else print('generate 25% low dose data...')\n",
    "        for patient_id in tqdm.tqdm(range(len(data_lists[phase]))):\n",
    "            dose_list = sorted_list(data_path+data_lists[phase][patient_id]+'/*/*')\n",
    "            ct_list=sorted_list(dose_list[i]+'/*')\n",
    "            \n",
    "            patient_silces=[]\n",
    "            for path in ct_list:\n",
    "                img=dcmread(path)\n",
    "                img_array=img.pixel_array.astype(np.float32)\n",
    "                patient_silces.append(img_array)\n",
    "                if 'train' in phase:\n",
    "                    patches=crop(img_array,train_patch_size,train_stride)\n",
    "                if 'test' in phase:\n",
    "                    patches=crop(img_array,test_patch_size,test_stride)\n",
    "\n",
    "                if i ==1:      \n",
    "                    quarter_patches.extend(patches)\n",
    "                if i ==0:\n",
    "                    full_patches.extend(patches)\n",
    "\n",
    "#     print(len(full_patches))\n",
    "#     print(len(quarter_patches))\n",
    "        \n",
    "    patch_id = np.random.permutation(len(full_patches))\n",
    "\n",
    "            \n",
    "    count=0\n",
    "    #ipdb.set_trace()\n",
    "    #for k in tqdm.trange((len(full_patches))):\n",
    "    for k in tqdm.trange(len(patch_id)):\n",
    "        if 'train' in phase:\n",
    "            threshold=thresholds[0]\n",
    "        if 'test' in phase:\n",
    "            threshold=thresholds[1] \n",
    "        black_percent = np.mean(np.clip(full_patches[k] - 1024, -500, 500) == -500)\n",
    "        if black_percent < threshold:\n",
    "            count+=1\n",
    "            \n",
    "#             if 'train' in phase:    \n",
    "#                 q_patch = np.array(quarter_patches[k]).astype(np.uint16).reshape(( 1,train_patch_size, train_patch_size))\n",
    "#                 f_patch = np.array(full_patches[k]).astype(np.uint16).reshape(( 1,train_patch_size,train_patch_size))\n",
    "#             if 'test' in phase:\n",
    "#                 q_patch = np.array(quarter_patches[k]).astype(np.uint16).reshape(( 1,test_patch_size, test_patch_size))\n",
    "#                 f_patch = np.array(full_patches[k]).astype(np.uint16).reshape(( 1,test_patch_size, test_patch_size))\n",
    "#             np.save(save_root_q+'/'+phase+'-quarter_1mm-'+'%05d' % k, np.array(q_patch).astype(np.uint16))\n",
    "#             np.save(save_root_f+'/'+phase+'-full_1mm-'+'%05d' % k, np.array(f_patch).astype(np.uint16))\n",
    "            #print(k)\n",
    "        if count==num_samples[phase]:\n",
    "            break\n",
    "    print(count)\n",
    "    print('complete save {} patches...'.format(phase))\n",
    "\n",
    "    \n",
    "    \n"
   ]
  },
  {
   "cell_type": "code",
   "execution_count": null,
   "id": "bf8d6a36",
   "metadata": {},
   "outputs": [],
   "source": []
  }
 ],
 "metadata": {
  "kernelspec": {
   "display_name": "Python [conda env:3DUnet]",
   "language": "python",
   "name": "conda-env-3DUnet-py"
  },
  "language_info": {
   "codemirror_mode": {
    "name": "ipython",
    "version": 3
   },
   "file_extension": ".py",
   "mimetype": "text/x-python",
   "name": "python",
   "nbconvert_exporter": "python",
   "pygments_lexer": "ipython3",
   "version": "3.8.0"
  }
 },
 "nbformat": 4,
 "nbformat_minor": 5
}
